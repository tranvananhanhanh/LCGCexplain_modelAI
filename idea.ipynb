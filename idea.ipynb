{
 "cells": [
  {
   "cell_type": "code",
   "execution_count": 2,
   "metadata": {},
   "outputs": [],
   "source": [
    "import os\n",
    "import torch\n",
    "from torchvision import transforms\n",
    "from PIL import Image\n",
    "import cv2\n",
    "import numpy as np"
   ]
  },
  {
   "cell_type": "code",
   "execution_count": 47,
   "metadata": {},
   "outputs": [
    {
     "name": "stdout",
     "output_type": "stream",
     "text": [
      "/Users/jmac/Desktop/clg/BI-RADS/BI-RADS 1.png\n",
      "/Users/jmac/Desktop/clg/BI-RADS/BI-RADS 2.png\n",
      "/Users/jmac/Desktop/clg/BI-RADS/BI-RADS 3.png\n",
      "/Users/jmac/Desktop/clg/BI-RADS/BI-RADS 4.png\n",
      "/Users/jmac/Desktop/clg/BI-RADS/BI-RADS 5.png\n",
      "(5, 3, 224, 224)\n"
     ]
    }
   ],
   "source": [
    "import os\n",
    "from PIL import Image\n",
    "from torchvision import transforms\n",
    "\n",
    "folder_path = \"/Users/jmac/Desktop/clg/BI-RADS/\"\n",
    "image_files = os.listdir(folder_path)\n",
    "\n",
    "image_tensors = []\n",
    "image_files = sorted(\n",
    "    [f for f in image_files if f.endswith(('.jpg', '.jpeg', '.png'))]\n",
    ")\n",
    "\n",
    "for filename in image_files:\n",
    "    if filename.endswith(('.jpg', '.jpeg', '.png')):\n",
    "        image_path = os.path.join(folder_path, filename)\n",
    "        print(image_path)       \n",
    "        image = Image.open(image_path)        \n",
    "        transform = transforms.ToTensor()\n",
    "        image_tensor = transform(image)\n",
    "        image_tensors.append(image_tensor)\n",
    "\n",
    "image_array = np.stack(image_tensors)\n",
    "\n",
    "print(image_array.shape)        \n"
   ]
  },
  {
   "cell_type": "code",
   "execution_count": 55,
   "metadata": {},
   "outputs": [
    {
     "name": "stdout",
     "output_type": "stream",
     "text": [
      "Output shape before softmax: torch.Size([1, 512])\n"
     ]
    }
   ],
   "source": [
    "import torch\n",
    "import torchvision.models as models\n",
    "model_path = '/Users/jmac/Desktop/clg/resnet50BasedModel/best.pt'\n",
    "#model_path='/Users/jmac/Desktop/clg/resnet50BasedModel/last.pt'\n",
    "# Instantiate the model (e.g., ResNet50 based model)\n",
    "model = models.resnet50()  # Adjust this line according to your model architecture\n",
    "num_ftrs = model.fc.in_features\n",
    "model.fc = torch.nn.Linear(num_ftrs, 512)\n",
    "\n",
    "# Load the checkpoint\n",
    "checkpoint = torch.load(model_path, map_location=torch.device('cpu'))\n",
    "\n",
    "# Extract the model state dictionary from the checkpoint\n",
    "state_dict = checkpoint['model_state_dict']\n",
    "new_state_dict = {k.replace('model.', ''): v for k, v in state_dict.items()}\n",
    "\n",
    "# Load the state dictionary into the model\n",
    "model.load_state_dict(new_state_dict)\n",
    "model.eval()\n",
    "\n",
    "# List to store the output\n",
    "output = []\n",
    "\n",
    "# Assume image_tensors is a list of tensors representing images\n",
    "for input_tensor in image_tensors:\n",
    "    input_batch = input_tensor.unsqueeze(0)  # Add batch dimension\n",
    "\n",
    "    if torch.cuda.is_available():\n",
    "        input_batch = input_batch.to('cuda')\n",
    "        model.to('cuda')\n",
    "\n",
    "    with torch.no_grad():\n",
    "        out = model(input_batch)\n",
    "        output.append(out)\n",
    "\n",
    "# Tensor of shape 1000, with confidence scores over ImageNet's 1000 classes\n",
    "print(\"Output shape before softmax:\", output[0].shape)\n"
   ]
  },
  {
   "cell_type": "code",
   "execution_count": 56,
   "metadata": {},
   "outputs": [
    {
     "name": "stdout",
     "output_type": "stream",
     "text": [
      "tensor([0.0762])\n",
      "tensor([0.0917])\n",
      "tensor([0.1896])\n",
      "tensor([-0.0303])\n"
     ]
    }
   ],
   "source": [
    "import torch.nn.functional as F\n",
    "print( F.cosine_similarity(output[2], output[0], dim=1))\n",
    "print( F.cosine_similarity(output[2], output[1], dim=1))\n",
    "print( F.cosine_similarity(output[2], output[3], dim=1))\n",
    "print( F.cosine_similarity(output[2], output[4], dim=1))\n",
    "#0 near 1 , far 2,4,3\n",
    "#1 near 0 , far 2,3,4\n",
    "#2 near 1 , far 4,3,0\n",
    "#3 near 4 , far 3,0,1\n",
    "#4 near 3 , far 2,0,1( cos xếp tăng dần)\n",
    "#2: 3-1-0-4"
   ]
  },
  {
   "cell_type": "code",
   "execution_count": 57,
   "metadata": {},
   "outputs": [
    {
     "name": "stdout",
     "output_type": "stream",
     "text": [
      "tensor([0.1800])\n",
      "tensor([0.0917])\n",
      "tensor([0.1746])\n",
      "tensor([0.0262])\n"
     ]
    }
   ],
   "source": [
    "import torch.nn.functional as F\n",
    "print( F.cosine_similarity(output[1], output[0], dim=1))\n",
    "print( F.cosine_similarity(output[1], output[2], dim=1))\n",
    "print( F.cosine_similarity(output[1], output[3], dim=1))\n",
    "print( F.cosine_similarity(output[1], output[4], dim=1))\n",
    "# 1: 0-3-2-4"
   ]
  },
  {
   "cell_type": "code",
   "execution_count": 58,
   "metadata": {},
   "outputs": [
    {
     "name": "stdout",
     "output_type": "stream",
     "text": [
      "tensor([0.1213])\n",
      "tensor([0.1746])\n",
      "tensor([0.1896])\n",
      "tensor([0.0360])\n"
     ]
    }
   ],
   "source": [
    "import torch.nn.functional as F\n",
    "print( F.cosine_similarity(output[3], output[0], dim=1))\n",
    "print( F.cosine_similarity(output[3], output[1], dim=1))\n",
    "print( F.cosine_similarity(output[3], output[2], dim=1))\n",
    "print( F.cosine_similarity(output[3], output[4], dim=1))\n",
    "# 3: 2-1-0- 4"
   ]
  },
  {
   "cell_type": "code",
   "execution_count": 59,
   "metadata": {},
   "outputs": [
    {
     "name": "stdout",
     "output_type": "stream",
     "text": [
      "tensor([0.0217])\n",
      "tensor([0.0262])\n",
      "tensor([-0.0303])\n",
      "tensor([0.0360])\n"
     ]
    }
   ],
   "source": [
    "import torch.nn.functional as F\n",
    "print( F.cosine_similarity(output[4], output[0], dim=1))\n",
    "print( F.cosine_similarity(output[4], output[1], dim=1))\n",
    "print( F.cosine_similarity(output[4], output[2], dim=1))\n",
    "print( F.cosine_similarity(output[4], output[3], dim=1))\n",
    "#4: 3-1-0-2"
   ]
  },
  {
   "cell_type": "code",
   "execution_count": 60,
   "metadata": {},
   "outputs": [
    {
     "name": "stdout",
     "output_type": "stream",
     "text": [
      "tensor([0.1800])\n",
      "tensor([0.0762])\n",
      "tensor([0.1213])\n",
      "tensor([0.0217])\n"
     ]
    }
   ],
   "source": [
    "import torch.nn.functional as F\n",
    "print( F.cosine_similarity(output[0], output[1], dim=1))\n",
    "print( F.cosine_similarity(output[0], output[2], dim=1))\n",
    "print( F.cosine_similarity(output[0], output[3], dim=1))\n",
    "print( F.cosine_similarity(output[0], output[4], dim=1))\n",
    "# 0: 1-3-2-4 (sắp xếp theo cos giảm dần)\n",
    "# 1: 0-3-2-4\n",
    "# 2: 3-1-0-4\n",
    "# 3: 2-1-0-4\n",
    "# 4: 3-1-0-2\n",
    "# 0->4 là mức độ từ 1->5\n",
    "\n"
   ]
  }
 ],
 "metadata": {
  "kernelspec": {
   "display_name": "ven",
   "language": "python",
   "name": "python3"
  },
  "language_info": {
   "codemirror_mode": {
    "name": "ipython",
    "version": 3
   },
   "file_extension": ".py",
   "mimetype": "text/x-python",
   "name": "python",
   "nbconvert_exporter": "python",
   "pygments_lexer": "ipython3",
   "version": "3.11.7"
  },
  "orig_nbformat": 4
 },
 "nbformat": 4,
 "nbformat_minor": 2
}
